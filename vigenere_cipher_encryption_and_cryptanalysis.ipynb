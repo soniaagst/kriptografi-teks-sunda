{
  "nbformat": 4,
  "nbformat_minor": 0,
  "metadata": {
    "colab": {
      "provenance": [],
      "include_colab_link": true
    },
    "kernelspec": {
      "name": "python3",
      "display_name": "Python 3"
    },
    "language_info": {
      "name": "python"
    }
  },
  "cells": [
    {
      "cell_type": "markdown",
      "metadata": {
        "id": "view-in-github",
        "colab_type": "text"
      },
      "source": [
        "<a href=\"https://colab.research.google.com/github/soniaagst/vigenere-cipher-encryption-and-cryptanalysis/blob/main/vigenere_cipher_encryption_and_cryptanalysis.ipynb\" target=\"_parent\"><img src=\"https://colab.research.google.com/assets/colab-badge.svg\" alt=\"Open In Colab\"/></a>"
      ]
    },
    {
      "cell_type": "code",
      "source": [
        "# Code ini digunakan di google colab\n",
        "# Jika tidak menggunakan google colab, harap ganti cara input filenya\n",
        "\n",
        "# Upload file ke google colab\n",
        "from google.colab import files\n",
        "uploaded = files.upload()"
      ],
      "metadata": {
        "id": "4BeOMNxIqPe7",
        "outputId": "eb7cf3e0-afa0-4869-ac21-9d2b148ed2e4",
        "colab": {
          "base_uri": "https://localhost:8080/",
          "height": 74
        }
      },
      "execution_count": null,
      "outputs": [
        {
          "output_type": "display_data",
          "data": {
            "text/plain": [
              "<IPython.core.display.HTML object>"
            ],
            "text/html": [
              "\n",
              "     <input type=\"file\" id=\"files-667ffc4b-83f0-466a-bd45-7f853991ae07\" name=\"files[]\" multiple disabled\n",
              "        style=\"border:none\" />\n",
              "     <output id=\"result-667ffc4b-83f0-466a-bd45-7f853991ae07\">\n",
              "      Upload widget is only available when the cell has been executed in the\n",
              "      current browser session. Please rerun this cell to enable.\n",
              "      </output>\n",
              "      <script>// Copyright 2017 Google LLC\n",
              "//\n",
              "// Licensed under the Apache License, Version 2.0 (the \"License\");\n",
              "// you may not use this file except in compliance with the License.\n",
              "// You may obtain a copy of the License at\n",
              "//\n",
              "//      http://www.apache.org/licenses/LICENSE-2.0\n",
              "//\n",
              "// Unless required by applicable law or agreed to in writing, software\n",
              "// distributed under the License is distributed on an \"AS IS\" BASIS,\n",
              "// WITHOUT WARRANTIES OR CONDITIONS OF ANY KIND, either express or implied.\n",
              "// See the License for the specific language governing permissions and\n",
              "// limitations under the License.\n",
              "\n",
              "/**\n",
              " * @fileoverview Helpers for google.colab Python module.\n",
              " */\n",
              "(function(scope) {\n",
              "function span(text, styleAttributes = {}) {\n",
              "  const element = document.createElement('span');\n",
              "  element.textContent = text;\n",
              "  for (const key of Object.keys(styleAttributes)) {\n",
              "    element.style[key] = styleAttributes[key];\n",
              "  }\n",
              "  return element;\n",
              "}\n",
              "\n",
              "// Max number of bytes which will be uploaded at a time.\n",
              "const MAX_PAYLOAD_SIZE = 100 * 1024;\n",
              "\n",
              "function _uploadFiles(inputId, outputId) {\n",
              "  const steps = uploadFilesStep(inputId, outputId);\n",
              "  const outputElement = document.getElementById(outputId);\n",
              "  // Cache steps on the outputElement to make it available for the next call\n",
              "  // to uploadFilesContinue from Python.\n",
              "  outputElement.steps = steps;\n",
              "\n",
              "  return _uploadFilesContinue(outputId);\n",
              "}\n",
              "\n",
              "// This is roughly an async generator (not supported in the browser yet),\n",
              "// where there are multiple asynchronous steps and the Python side is going\n",
              "// to poll for completion of each step.\n",
              "// This uses a Promise to block the python side on completion of each step,\n",
              "// then passes the result of the previous step as the input to the next step.\n",
              "function _uploadFilesContinue(outputId) {\n",
              "  const outputElement = document.getElementById(outputId);\n",
              "  const steps = outputElement.steps;\n",
              "\n",
              "  const next = steps.next(outputElement.lastPromiseValue);\n",
              "  return Promise.resolve(next.value.promise).then((value) => {\n",
              "    // Cache the last promise value to make it available to the next\n",
              "    // step of the generator.\n",
              "    outputElement.lastPromiseValue = value;\n",
              "    return next.value.response;\n",
              "  });\n",
              "}\n",
              "\n",
              "/**\n",
              " * Generator function which is called between each async step of the upload\n",
              " * process.\n",
              " * @param {string} inputId Element ID of the input file picker element.\n",
              " * @param {string} outputId Element ID of the output display.\n",
              " * @return {!Iterable<!Object>} Iterable of next steps.\n",
              " */\n",
              "function* uploadFilesStep(inputId, outputId) {\n",
              "  const inputElement = document.getElementById(inputId);\n",
              "  inputElement.disabled = false;\n",
              "\n",
              "  const outputElement = document.getElementById(outputId);\n",
              "  outputElement.innerHTML = '';\n",
              "\n",
              "  const pickedPromise = new Promise((resolve) => {\n",
              "    inputElement.addEventListener('change', (e) => {\n",
              "      resolve(e.target.files);\n",
              "    });\n",
              "  });\n",
              "\n",
              "  const cancel = document.createElement('button');\n",
              "  inputElement.parentElement.appendChild(cancel);\n",
              "  cancel.textContent = 'Cancel upload';\n",
              "  const cancelPromise = new Promise((resolve) => {\n",
              "    cancel.onclick = () => {\n",
              "      resolve(null);\n",
              "    };\n",
              "  });\n",
              "\n",
              "  // Wait for the user to pick the files.\n",
              "  const files = yield {\n",
              "    promise: Promise.race([pickedPromise, cancelPromise]),\n",
              "    response: {\n",
              "      action: 'starting',\n",
              "    }\n",
              "  };\n",
              "\n",
              "  cancel.remove();\n",
              "\n",
              "  // Disable the input element since further picks are not allowed.\n",
              "  inputElement.disabled = true;\n",
              "\n",
              "  if (!files) {\n",
              "    return {\n",
              "      response: {\n",
              "        action: 'complete',\n",
              "      }\n",
              "    };\n",
              "  }\n",
              "\n",
              "  for (const file of files) {\n",
              "    const li = document.createElement('li');\n",
              "    li.append(span(file.name, {fontWeight: 'bold'}));\n",
              "    li.append(span(\n",
              "        `(${file.type || 'n/a'}) - ${file.size} bytes, ` +\n",
              "        `last modified: ${\n",
              "            file.lastModifiedDate ? file.lastModifiedDate.toLocaleDateString() :\n",
              "                                    'n/a'} - `));\n",
              "    const percent = span('0% done');\n",
              "    li.appendChild(percent);\n",
              "\n",
              "    outputElement.appendChild(li);\n",
              "\n",
              "    const fileDataPromise = new Promise((resolve) => {\n",
              "      const reader = new FileReader();\n",
              "      reader.onload = (e) => {\n",
              "        resolve(e.target.result);\n",
              "      };\n",
              "      reader.readAsArrayBuffer(file);\n",
              "    });\n",
              "    // Wait for the data to be ready.\n",
              "    let fileData = yield {\n",
              "      promise: fileDataPromise,\n",
              "      response: {\n",
              "        action: 'continue',\n",
              "      }\n",
              "    };\n",
              "\n",
              "    // Use a chunked sending to avoid message size limits. See b/62115660.\n",
              "    let position = 0;\n",
              "    do {\n",
              "      const length = Math.min(fileData.byteLength - position, MAX_PAYLOAD_SIZE);\n",
              "      const chunk = new Uint8Array(fileData, position, length);\n",
              "      position += length;\n",
              "\n",
              "      const base64 = btoa(String.fromCharCode.apply(null, chunk));\n",
              "      yield {\n",
              "        response: {\n",
              "          action: 'append',\n",
              "          file: file.name,\n",
              "          data: base64,\n",
              "        },\n",
              "      };\n",
              "\n",
              "      let percentDone = fileData.byteLength === 0 ?\n",
              "          100 :\n",
              "          Math.round((position / fileData.byteLength) * 100);\n",
              "      percent.textContent = `${percentDone}% done`;\n",
              "\n",
              "    } while (position < fileData.byteLength);\n",
              "  }\n",
              "\n",
              "  // All done.\n",
              "  yield {\n",
              "    response: {\n",
              "      action: 'complete',\n",
              "    }\n",
              "  };\n",
              "}\n",
              "\n",
              "scope.google = scope.google || {};\n",
              "scope.google.colab = scope.google.colab || {};\n",
              "scope.google.colab._files = {\n",
              "  _uploadFiles,\n",
              "  _uploadFilesContinue,\n",
              "};\n",
              "})(self);\n",
              "</script> "
            ]
          },
          "metadata": {}
        },
        {
          "output_type": "stream",
          "name": "stdout",
          "text": [
            "Saving Sample.txt to Sample (1).txt\n"
          ]
        }
      ]
    },
    {
      "cell_type": "code",
      "source": [
        "# Membaca file yang diupload\n",
        "with open('Sample.txt') as f:\n",
        "  initial_text = f.read()"
      ],
      "metadata": {
        "id": "7pPUlXJjqQyT"
      },
      "execution_count": null,
      "outputs": []
    },
    {
      "cell_type": "code",
      "source": [
        "# Definisikan fungsi untuk mencari distribusi huruf\n",
        "def counting (x):\n",
        "  count_table = {} # Variabel yang menyimpan kemunculan huruf\n",
        "  freq_table = {} # Variabel yang menyimpan frekuensi kemunculan huruf\n",
        "  n = 0 # Variabel yang menyimpan jumlah huruf dalam sampel teks\n",
        "  # Buat array yang berisi huruf dalam bahasa sunda\n",
        "  # Catatan: huruf 'eu' tidak diklasifikansikan sebagai huruf terpisah\n",
        "  sunda_alphabet = ['a', 'b', 'c', 'd', 'e', 'é',  'f', 'g', 'h', 'i', 'j', 'k', 'l', 'm', 'n', 'o', 'p', 'q', 'r', 's', 't', 'u', 'v', 'w', 'x', 'y', 'z', 'A', 'B', 'C', 'D', 'E', 'É', 'F', 'G', 'H', 'I', 'J', 'K', 'L', 'M', 'N', 'O', 'P', 'Q', 'R', 'S', 'T', 'U', 'V', 'W', 'X', 'Y', 'Z']\n",
        "  # Buat looping perhitungannya\n",
        "  for i in range(0,27):\n",
        "    count_table[i] = x.count(str(sunda_alphabet[i])) + x.count(str(sunda_alphabet[i+27]))\n",
        "    n = n + count_table[i]\n",
        "  for i in range(0,27):\n",
        "    freq_table[i] = count_table[i]/n\n",
        "  return count_table, n, freq_table"
      ],
      "metadata": {
        "id": "bwdNtO_SqaUV"
      },
      "execution_count": null,
      "outputs": []
    },
    {
      "cell_type": "code",
      "source": [
        "# Menyimpan hasil dalam variabel baru\n",
        "alphabet_count, len_alphabet, freq_alphabet = counting(initial_text)"
      ],
      "metadata": {
        "id": "Bui_UZMqqayR"
      },
      "execution_count": null,
      "outputs": []
    },
    {
      "cell_type": "code",
      "source": [
        "# Menghitung nilai koinsiden dari persebaran huruf bahasa sunda\n",
        "index = 0\n",
        "for i in range(len(freq_alphabet)):\n",
        "  pi = freq_alphabet[i]**2\n",
        "  index += pi\n",
        "print(index)"
      ],
      "metadata": {
        "id": "uQ-tgWCaqdMt",
        "outputId": "b791642b-d20f-4231-ff97-4e2f94ee98ec",
        "colab": {
          "base_uri": "https://localhost:8080/"
        }
      },
      "execution_count": null,
      "outputs": [
        {
          "output_type": "stream",
          "name": "stdout",
          "text": [
            "0.08904061346517123\n"
          ]
        }
      ]
    },
    {
      "cell_type": "markdown",
      "source": [
        "# Proses Enkripsi Sandi Vigenere"
      ],
      "metadata": {
        "id": "jruq9khZtu0D"
      }
    },
    {
      "cell_type": "code",
      "source": [
        "# Pilih suatu teks dalam Bahasa Sunda sebagai teks asal / plainteks\n",
        "sample_text = 'Méga beureum geus katempo ngempur di belah wétan. Cicirén yén panon poé téréh bijil. Enya wé tu kungsi lila panon poé téh meleték, ray.. ray.. nyaangan alam dunya anu tadina poék mongkléng buta rajin. Awak anu tadina ngahodhod kabulusan laun-laun mimiti karasa haneut. Gap kana kaméra, jeprét kaéndahan pamandangan alam di puncak gunung Cikuray téh dipotoan. Bari moyankeun awak, regot kana cikopi anu masih kénéh ngebul. Sanajan caina karék cur kopi téh teu karasa panas bubuhan hawa di luhur gunung mah tiris kacida. Beuki caang téh pamandangan asa kalah tambah éndah. Haseup bodas ngampar ngagulung jiga budah lautan. Katempona kawas dina handapeun dampal suku, lir ibarat nangtung dina luhur parahu tuluy ninggali ka laut. Ngeplak bodas, kota Garut anu sakitu legana méh-méhan teu katempo bakating ku kandelna éta haseup. Panon poé beuki naék, rét ka belah kulon katempo kalangkang gunung Cikuray ngawangun segi tilu ngabelegbeg nutupan gunung Papandayan. Gurawésna kawah Papandayan teh écés pisan katinggalina ti puncer gunung Cikuray mah.'"
      ],
      "metadata": {
        "id": "V8pdzYGIq39X"
      },
      "execution_count": null,
      "outputs": []
    },
    {
      "cell_type": "code",
      "source": [
        "# Definisikan fungsi untuk mengambil setiap elemen huruf pada teks\n",
        "def simple(text):\n",
        "    t = \"\"\n",
        "    la = \"abcdeéfghijklmnopqrstuvwxyz\"\n",
        "    ua = \"ABCDEÉFGHIJKLMNOPQRSTUVWXYZ\"\n",
        "    for i in (text):\n",
        "        if(i in la or i in ua):\n",
        "            t+=i\n",
        "    return t\n",
        "plaintext = simple(sample_text)\n",
        "plaintext = plaintext.lower() # Mengubah huruf yang diperoleh menjadi huruf kecil\n",
        "# Tampilkan hasil dari plainteks\n",
        "a = 0\n",
        "b = 86\n",
        "for i in range (10):\n",
        "  print(plaintext[a:b])\n",
        "  a = a + 86\n",
        "  b = b + 86"
      ],
      "metadata": {
        "id": "Lq1x5hVmrNhA",
        "outputId": "b4260e64-6422-4b53-9267-35dab68f52fa",
        "colab": {
          "base_uri": "https://localhost:8080/"
        }
      },
      "execution_count": null,
      "outputs": [
        {
          "output_type": "stream",
          "name": "stdout",
          "text": [
            "mégabeureumgeuskatempongempurdibelahwétancicirényénpanonpoétéréhbijilenyawétukungsilil\n",
            "apanonpoétéhmeletékrayraynyaanganalamdunyaanutadinapoékmongkléngbutarajinawakanutadina\n",
            "ngahodhodkabulusanlaunlaunmimitikarasahaneutgapkanakamérajeprétkaéndahanpamandanganala\n",
            "mdipuncakgunungcikuraytéhdipotoanbarimoyankeunawakregotkanacikopianumasihkénéhngebulsa\n",
            "najancainakarékcurkopitéhteukarasapanasbubuhanhawadiluhurgunungmahtiriskacidabeukicaan\n",
            "gtéhpamandanganasakalahtambahéndahhaseupbodasngamparngagulungjigabudahlautankatemponak\n",
            "awasdinahandapeundampalsukuliribaratnangtungdinaluhurparahutuluyninggalikalautngeplakb\n",
            "odaskotagarutanusakituleganaméhméhanteukatempobakatingkukandelnaétahaseuppanonpoébeuki\n",
            "naékrétkabelahkulonkatempokalangkanggunungcikurayngawangunsegitilungabelegbegnutupangu\n",
            "nungpapandayangurawésnakawahpapandayantehécéspisankatinggalinatipuncergunungcikuraymah\n"
          ]
        }
      ]
    },
    {
      "cell_type": "code",
      "source": [
        "# Definisikan fungsi untuk mengubah huruf ke dalam bentuk angka\n",
        "# Di mulai dengan 0 untuk a, 1 untuk b, dan seterusnya\n",
        "# Huruf é dalam kasus ini memiliki notasi 26\n",
        "def var_to_num (text):\n",
        "  output = []\n",
        "  for character in text:\n",
        "      number = ord(character) - 97\n",
        "      if number == 136: # Syarat untuk é\n",
        "        number = 26\n",
        "      output.append(number)\n",
        "  return output\n",
        "varplain = var_to_num(plaintext)\n",
        "print(varplain[:10]) # Tampilkan contoh dari plainteks dalam notasi angka"
      ],
      "metadata": {
        "id": "-yOXfh9SsP3z",
        "outputId": "8676ce7f-f7b2-4ac7-ae37-793f6b45b7e5",
        "colab": {
          "base_uri": "https://localhost:8080/"
        }
      },
      "execution_count": null,
      "outputs": [
        {
          "output_type": "stream",
          "name": "stdout",
          "text": [
            "[12, 26, 6, 0, 1, 4, 20, 17, 4, 20]\n"
          ]
        }
      ]
    },
    {
      "cell_type": "code",
      "source": [
        "# Dalam sandi Vigenere, diperlukan suatu kata kunci\n",
        "# Kata kunci yang dipilih adalah SUNDA\n",
        "key = [18, 20, 13, 3, 0] # misal kata kuncinya sunda\n",
        "# Kemudian lakukan penambahan pada setiap elemen bersesuaian dengan kata kuncinya\n",
        "ciphertext = []\n",
        "import string\n",
        "for i in range (len(varplain)):\n",
        "  a = i % len(key)\n",
        "  varplain[i] = varplain[i] + key[a]\n",
        "  varplain[i] = varplain[i] % 27\n",
        "  if varplain[i] == 26:\n",
        "    var = 'É'\n",
        "  else:\n",
        "    var = string.ascii_uppercase[(varplain[i])]\n",
        "  ciphertext.append(var)\n",
        "ciphertext = \"\".join(ciphertext)\n",
        "# Tampilkan hasil dari cipherteks\n",
        "a = 0\n",
        "b = 86\n",
        "for i in range (10):\n",
        "  print(ciphertext[a:b])\n",
        "  a = a + 86\n",
        "  b = b + 86"
      ],
      "metadata": {
        "id": "UhgTSiKts7cu",
        "outputId": "2e5bd936-3c76-49b0-d7c5-5af0526cc10e",
        "colab": {
          "base_uri": "https://localhost:8080/"
        }
      },
      "execution_count": null,
      "outputs": [
        {
          "output_type": "stream",
          "name": "stdout",
          "text": [
            "DTTDBWNDHUDÉRXSBUFHMGHÉJEDIGUDÉVROAZPMWAEWVFIITÉAÉEINQOEIACTRKMKBÉCVOEERNZÉKNXXNYLVOIC\n",
            "UBDNFGBRÉKTUPECYFCKIUKUAPGKDAEÉNQACUZGUERNDNLMNGIEUBRÉBFAQGBEMQGTNFDRSCVQANUXDNLMNGIEU\n",
            "ÉJAZHQKOVDNEUCNEDNCUGQLSNÉPIDBFLKSKNVAZUÉHUKÉNSKSGNNADTDDJWIDCTBUMQDSANQPSFNQDSGTDNSEN\n",
            "PDÉIGQCSDTXNLGTFIBNDDYKTUGIGHFRAEVNUIDHKDNBYGQANUXUEYHFNAEUPLKFIVDNLFNVIZDMQÉZGTHBLEED\n",
            "NSCNQCSBÉDKSKMNCLKXRPÉMMKTWNXDRSLNSAEUEEUTNUDNZUIDDÉEGKUIÉGQUEÉZDHKBDLSBUPLDSVRXKÉWNDN\n",
            "YMMKPSFNQDSGTDNSLNNACUUWADVNKÉEXNKHSLRXPTHQDSEÉNPPSKÉJAYNYXNYCVJATNQDHCUGWAEDNWEDIAQAB\n",
            "UIDSVBÉDHSGQDPWNÉGADINOSLDGOIIBODRSMÉDNYMGQGVBÉDLLAGUPSKNKUKNYXYEBÉJGSEVNACUGWNYYBOABV\n",
            "AGAJDAWAYUDXTSGGVABBFXLWÉNQADTUPÉZUÉWELDNWEDIAEABUFLNYDGNAEXRONSTFDHSLRXPGUÉRNGHMEELDV\n",
            "QARDDCTBUOHLSAXXLFGXDTWFBRKSENQGBUÉJGLGGQGUBXXRSRÉJANUÉJUELRJIKBYXNYUOHLWÉOHGENFXPSGTX\n",
            "NLGTSAGUÉGAPUÉJUIUICSEUXDWSABDPSGQDYSGFHHRWMVPÉLNQKSMVQGYUYLNSMVSUEWRUGLGGQGUBXXRSRZDH\n"
          ]
        }
      ]
    },
    {
      "cell_type": "markdown",
      "source": [
        "# Kriptanalisis Sandi Vigenere dengan Indeks Koinsiden"
      ],
      "metadata": {
        "id": "F8qOin4Dty6W"
      }
    },
    {
      "cell_type": "code",
      "source": [
        "# Dalam melakukan kriptanalisis\n",
        "# Perlu mengubah cipherteks ke dalam notasi angka\n",
        "ciphertext = ciphertext.lower()\n",
        "ciplain = var_to_num(ciphertext)"
      ],
      "metadata": {
        "id": "80Da__hLt9Xf"
      },
      "execution_count": null,
      "outputs": []
    },
    {
      "cell_type": "code",
      "source": [
        "# Masukan nilai m untuk mensimulasikan\n",
        "m = int(input('Masukan nilai m '))\n",
        "import numpy as np\n",
        "if len(ciplain) % m == 0:\n",
        "  cols = len(ciplain)//m\n",
        "else:\n",
        "  cols = (len(ciplain)//m) + 1\n",
        "# Kemudian bangun matriks berukuran m x n yang bersesuaian dengan jumlah cipherteks\n",
        "# Baris pada matriks mengartikan bahwa bahwa setiap elemen pada baris tersebut mengalami penambahan angka yang sama\n",
        "M = [[100 for i in range (cols)] for i in range (m)]\n",
        "for i in range (len(ciplain)):\n",
        "  row = i % m\n",
        "  col = i//m\n",
        "  M[row][col] = ciplain[i]\n",
        "# Contoh tampilan dari matriks M\n",
        "for i in range(m):\n",
        "  print(M[i])"
      ],
      "metadata": {
        "id": "s8UK9PEYtqPI",
        "outputId": "5473d77b-e0dd-4ff3-a2f7-4f1fa726230a",
        "colab": {
          "base_uri": "https://localhost:8080/"
        }
      },
      "execution_count": null,
      "outputs": [
        {
          "output_type": "stream",
          "name": "stdout",
          "text": [
            "Masukan nilai m 5\n",
            "[3, 22, 3, 1, 6, 3, 26, 25, 4, 8, 4, 4, 17, 26, 4, 10, 24, 2, 5, 10, 2, 8, 15, 4, 2, 4, 11, 4, 1, 1, 19, 18, 13, 11, 4, 25, 21, 2, 2, 18, 3, 18, 25, 10, 18, 3, 22, 1, 18, 18, 18, 18, 26, 18, 11, 1, 10, 6, 4, 3, 1, 13, 24, 4, 5, 11, 25, 25, 11, 18, 18, 18, 11, 26, 22, 18, 4, 19, 25, 26, 8, 4, 10, 1, 18, 26, 24, 18, 18, 18, 2, 3, 4, 18, 19, 4, 18, 24, 24, 19, 2, 4, 3, 1, 21, 18, 22, 3, 11, 8, 18, 24, 21, 11, 18, 10, 4, 18, 2, 24, 1, 9, 24, 18, 1, 22, 3, 25, 11, 3, 1, 24, 4, 18, 18, 6, 6, 11, 17, 1, 18, 5, 22, 18, 1, 11, 20, 18, 13, 4, 10, 24, 22, 4, 18, 11, 6, 15, 8, 4, 18, 18, 18, 17, 26, 18, 24, 18, 4, 11, 20, 18]\n",
            "[19, 13, 26, 20, 7, 8, 21, 15, 22, 19, 8, 8, 10, 2, 17, 13, 11, 20, 6, 19, 24, 20, 6, 26, 20, 17, 12, 20, 5, 4, 13, 2, 20, 12, 20, 7, 3, 13, 20, 13, 1, 10, 20, 26, 6, 19, 8, 20, 0, 5, 6, 4, 8, 3, 6, 13, 19, 7, 21, 7, 24, 20, 7, 20, 8, 5, 3, 6, 4, 2, 1, 10, 10, 12, 13, 11, 20, 13, 20, 4, 26, 26, 1, 20, 21, 22, 12, 5, 6, 11, 20, 21, 23, 11, 7, 26, 10, 13, 2, 13, 20, 3, 8, 20, 1, 6, 13, 8, 3, 1, 12, 12, 1, 0, 10, 13, 1, 4, 20, 24, 21, 3, 20, 6, 1, 26, 19, 20, 3, 8, 20, 3, 23, 19, 11, 20, 7, 3, 3, 20, 0, 6, 5, 4, 20, 6, 1, 17, 20, 11, 1, 20, 26, 13, 6, 6, 20, 20, 20, 20, 0, 6, 6, 22, 11, 12, 20, 12, 22, 6, 1, 17]\n",
            "[19, 3, 17, 5, 26, 6, 17, 12, 21, 26, 13, 0, 12, 21, 13, 23, 21, 1, 1, 20, 5, 10, 10, 13, 25, 13, 13, 1, 0, 12, 5, 21, 23, 13, 26, 16, 13, 4, 6, 26, 5, 13, 26, 13, 13, 3, 3, 12, 13, 13, 19, 13, 6, 19, 19, 3, 20, 5, 13, 10, 6, 23, 5, 15, 21, 13, 12, 19, 4, 13, 26, 12, 23, 12, 23, 13, 4, 20, 8, 6, 6, 25, 3, 15, 17, 13, 12, 13, 19, 13, 20, 13, 13, 17, 16, 13, 26, 24, 21, 16, 6, 13, 0, 8, 26, 16, 26, 13, 6, 14, 26, 6, 26, 6, 13, 24, 26, 21, 6, 1, 0, 0, 3, 6, 5, 13, 20, 26, 13, 0, 5, 6, 17, 5, 17, 26, 12, 21, 3, 14, 23, 23, 1, 13, 26, 6, 23, 26, 26, 17, 24, 14, 14, 5, 19, 19, 26, 26, 8, 23, 1, 16, 5, 12, 13, 21, 24, 21, 17, 6, 23, 25]\n",
            "[3, 7, 23, 7, 9, 20, 14, 22, 5, 0, 16, 2, 10, 14, 25, 23, 14, 3, 17, 15, 2, 20, 3, 16, 6, 3, 6, 17, 16, 16, 3, 16, 3, 6, 9, 10, 4, 3, 16, 15, 11, 21, 7, 18, 13, 3, 2, 16, 16, 16, 3, 15, 16, 23, 5, 3, 6, 17, 20, 3, 16, 20, 13, 11, 3, 21, 16, 7, 3, 16, 3, 13, 17, 10, 3, 18, 4, 3, 3, 10, 16, 3, 11, 11, 23, 3, 10, 16, 3, 13, 22, 10, 10, 23, 3, 15, 9, 23, 9, 3, 22, 22, 16, 3, 3, 3, 6, 14, 14, 3, 3, 16, 3, 20, 10, 23, 9, 13, 22, 14, 6, 22, 23, 21, 23, 16, 15, 22, 22, 4, 11, 13, 14, 3, 23, 17, 4, 16, 2, 7, 23, 3, 17, 16, 9, 16, 23, 9, 9, 9, 23, 7, 7, 23, 23, 18, 6, 9, 2, 3, 3, 3, 7, 21, 16, 16, 11, 18, 20, 16, 23, 3]\n",
            "[1, 20, 18, 12, 4, 3, 0, 0, 8, 26, 14, 19, 1, 4, 26, 13, 8, 13, 26, 4, 10, 0, 0, 0, 20, 13, 8, 26, 6, 6, 17, 0, 13, 8, 0, 14, 20, 13, 11, 8, 10, 0, 20, 10, 0, 9, 19, 3, 15, 3, 13, 3, 2, 13, 8, 24, 8, 0, 8, 13, 0, 4, 0, 10, 13, 8, 26, 1, 13, 2, 10, 2, 15, 19, 17, 0, 20, 13, 3, 20, 20, 7, 18, 3, 10, 13, 15, 3, 13, 0, 0, 26, 7, 15, 18, 15, 0, 13, 0, 7, 0, 4, 0, 18, 7, 15, 0, 18, 8, 17, 13, 6, 11, 15, 20, 24, 6, 0, 13, 0, 0, 0, 19, 0, 11, 0, 26, 4, 4, 0, 13, 0, 13, 7, 15, 13, 4, 0, 19, 11, 11, 19, 10, 6, 6, 6, 17, 0, 20, 8, 13, 11, 6, 15, 13, 0, 0, 20, 18, 22, 15, 24, 7, 15, 10, 6, 13, 20, 6, 6, 17, 7]\n"
          ]
        }
      ]
    },
    {
      "cell_type": "code",
      "source": [
        "# Definisikan fungsi untuk menghitung nilai koinsiden untuk setiap baris pada matriks\n",
        "def countings (x):\n",
        "  count_table = {} # Variabel yang menyimpan kemunculan huruf\n",
        "  freq_table = {} # Variabel yang menyimpan frekuensi kemunculan huruf\n",
        "  n = 0 # Variabel yang menyimpan jumlah huruf dalam sampel teks\n",
        "  spi = 0 # Variabel jumlah kuadrat dari setiap nilai pi\n",
        "  ranger = [i for i in range(27)]\n",
        "  for i in range(27):\n",
        "    count_table[i] = x.count(i)\n",
        "    n = n + count_table[i]\n",
        "  for i in range(27):\n",
        "    freq_table[i] = count_table[i]/n\n",
        "    pi = freq_table[i]**2\n",
        "    spi += pi\n",
        "  return spi"
      ],
      "metadata": {
        "id": "tTnIvs0CvtKD"
      },
      "execution_count": null,
      "outputs": []
    },
    {
      "cell_type": "code",
      "source": [
        "# Tampilkan nilai koinsiden dari setiap baris pada matriks\n",
        "for i in range (m):\n",
        "  print(countings(M[i]))\n",
        "# Jika rataan output dari hasil ini masih jauh dari nilai koinsiden persebaran huruf Bahasa Sunda\n",
        "# Lakukan pengulangan dengan memilih nilai m yang berbeda"
      ],
      "metadata": {
        "id": "LD39F97AwFzD",
        "outputId": "187ff70a-9dae-47b4-8217-df2651b96218",
        "colab": {
          "base_uri": "https://localhost:8080/"
        }
      },
      "execution_count": null,
      "outputs": [
        {
          "output_type": "stream",
          "name": "stdout",
          "text": [
            "0.0908599242833964\n",
            "0.07524337479718768\n",
            "0.07700108166576528\n",
            "0.08876419686316926\n",
            "0.08227420227149809\n"
          ]
        }
      ]
    },
    {
      "cell_type": "code",
      "source": [
        "freq_alphabet"
      ],
      "metadata": {
        "colab": {
          "base_uri": "https://localhost:8080/"
        },
        "id": "3a63wJPuPWlw",
        "outputId": "831f5811-8484-40ee-cb30-f45ca7d6a438"
      },
      "execution_count": null,
      "outputs": [
        {
          "output_type": "execute_result",
          "data": {
            "text/plain": [
              "{0: 0.2163674547794865,\n",
              " 1: 0.024117607208183726,\n",
              " 2: 0.006205541629970869,\n",
              " 3: 0.032314883815459654,\n",
              " 4: 0.046446717702052706,\n",
              " 5: 0.018887609240566358,\n",
              " 6: 0.0007316577467651243,\n",
              " 7: 0.04858749407221733,\n",
              " 8: 0.02539123365625635,\n",
              " 9: 0.06655375652056093,\n",
              " 10: 0.01482284398076011,\n",
              " 11: 0.04469886864033602,\n",
              " 12: 0.027626854549149787,\n",
              " 13: 0.02701713976017885,\n",
              " 14: 0.11717363322268139,\n",
              " 15: 0.021150328568525167,\n",
              " 16: 0.02911726847774541,\n",
              " 17: 0.0,\n",
              " 18: 0.042151615744190775,\n",
              " 19: 0.045254386559176206,\n",
              " 20: 0.0441839983740939,\n",
              " 21: 0.07610595488110562,\n",
              " 22: 0.00020323826299031232,\n",
              " 23: 0.012804010568389675,\n",
              " 24: 0.0,\n",
              " 25: 0.011963959081363051,\n",
              " 26: 0.00012194295779418739}"
            ]
          },
          "metadata": {},
          "execution_count": 61
        }
      ]
    },
    {
      "cell_type": "code",
      "source": [
        "for k in range(5):\n",
        "  f = {}\n",
        "  n = len(M[k])\n",
        "  for i in range(27):\n",
        "    f[i] = M[k].count(i)/n\n",
        "  print(f)"
      ],
      "metadata": {
        "colab": {
          "base_uri": "https://localhost:8080/"
        },
        "id": "7ltsETaeWjEN",
        "outputId": "b7f47ed0-068f-401e-c302-2a2edf0cedb9"
      },
      "execution_count": null,
      "outputs": [
        {
          "output_type": "stream",
          "name": "stdout",
          "text": [
            "{0: 0.0, 1: 0.0755813953488372, 2: 0.046511627906976744, 3: 0.06395348837209303, 4: 0.12209302325581395, 5: 0.01744186046511628, 6: 0.029069767441860465, 7: 0.0, 8: 0.029069767441860465, 9: 0.005813953488372093, 10: 0.040697674418604654, 11: 0.0755813953488372, 12: 0.0, 13: 0.01744186046511628, 14: 0.0, 15: 0.011627906976744186, 16: 0.0, 17: 0.01744186046511628, 18: 0.20930232558139536, 19: 0.023255813953488372, 20: 0.011627906976744186, 21: 0.01744186046511628, 22: 0.040697674418604654, 23: 0.0, 24: 0.06395348837209303, 25: 0.040697674418604654, 26: 0.040697674418604654}\n",
            "{0: 0.023255813953488372, 1: 0.06395348837209303, 2: 0.023255813953488372, 3: 0.05813953488372093, 4: 0.03488372093023256, 5: 0.029069767441860465, 6: 0.09302325581395349, 7: 0.040697674418604654, 8: 0.05232558139534884, 9: 0.0, 10: 0.03488372093023256, 11: 0.040697674418604654, 12: 0.046511627906976744, 13: 0.0755813953488372, 14: 0.0, 15: 0.005813953488372093, 16: 0.0, 17: 0.023255813953488372, 18: 0.0, 19: 0.040697674418604654, 20: 0.18604651162790697, 21: 0.029069767441860465, 22: 0.023255813953488372, 23: 0.011627906976744186, 24: 0.01744186046511628, 25: 0.0, 26: 0.046511627906976744}\n",
            "{0: 0.03488372093023256, 1: 0.03488372093023256, 2: 0.0, 3: 0.040697674418604654, 4: 0.01744186046511628, 5: 0.06395348837209303, 6: 0.0872093023255814, 7: 0.0, 8: 0.01744186046511628, 9: 0.0, 10: 0.01744186046511628, 11: 0.0, 12: 0.05813953488372093, 13: 0.1744186046511628, 14: 0.023255813953488372, 15: 0.011627906976744186, 16: 0.029069767441860465, 17: 0.046511627906976744, 18: 0.0, 19: 0.046511627906976744, 20: 0.029069767441860465, 21: 0.05813953488372093, 22: 0.0, 23: 0.05813953488372093, 24: 0.023255813953488372, 25: 0.01744186046511628, 26: 0.11046511627906977}\n",
            "{0: 0.005813953488372093, 1: 0.0, 2: 0.029069767441860465, 3: 0.19767441860465115, 4: 0.023255813953488372, 5: 0.011627906976744186, 6: 0.040697674418604654, 7: 0.046511627906976744, 8: 0.0, 9: 0.05813953488372093, 10: 0.046511627906976744, 11: 0.03488372093023256, 12: 0.0, 13: 0.03488372093023256, 14: 0.040697674418604654, 15: 0.029069767441860465, 16: 0.13953488372093023, 17: 0.03488372093023256, 18: 0.023255813953488372, 19: 0.0, 20: 0.03488372093023256, 21: 0.023255813953488372, 22: 0.046511627906976744, 23: 0.09302325581395349, 24: 0.0, 25: 0.005813953488372093, 26: 0.0}\n",
            "{0: 0.18604651162790697, 1: 0.01744186046511628, 2: 0.01744186046511628, 3: 0.040697674418604654, 4: 0.046511627906976744, 5: 0.0, 6: 0.06395348837209303, 7: 0.040697674418604654, 8: 0.06395348837209303, 9: 0.005813953488372093, 10: 0.046511627906976744, 11: 0.03488372093023256, 12: 0.005813953488372093, 13: 0.12790697674418605, 14: 0.011627906976744186, 15: 0.06395348837209303, 16: 0.0, 17: 0.029069767441860465, 18: 0.03488372093023256, 19: 0.03488372093023256, 20: 0.06395348837209303, 21: 0.0, 22: 0.005813953488372093, 23: 0.0, 24: 0.01744186046511628, 25: 0.0, 26: 0.040697674418604654}\n"
          ]
        }
      ]
    },
    {
      "cell_type": "code",
      "source": [
        "p = freq_alphabet\n",
        "for j in range(5):\n",
        "  f = {}\n",
        "  n = len(M[j])\n",
        "  for i in range(27):\n",
        "    f[i] = M[j].count(i)/n\n",
        "  for g in range(27):\n",
        "    Mg = 0\n",
        "    for i in range(27):\n",
        "      k = (i+g)%27\n",
        "      Mg = Mg + ((p[i]*f[k]))\n",
        "    print(g, ':', Mg)\n",
        "  print('------------------------')"
      ],
      "metadata": {
        "colab": {
          "base_uri": "https://localhost:8080/"
        },
        "id": "gp-OrOI1s1fy",
        "outputId": "0138e178-9826-4d62-cbff-c42fcaf00161"
      },
      "execution_count": null,
      "outputs": [
        {
          "output_type": "stream",
          "name": "stdout",
          "text": [
            "0 : 0.02823972031894228\n",
            "1 : 0.037597975809920234\n",
            "2 : 0.03182277938565326\n",
            "3 : 0.038890429368401654\n",
            "4 : 0.06789812248807747\n",
            "5 : 0.026276422943551748\n",
            "6 : 0.03011329351543902\n",
            "7 : 0.02969602488014457\n",
            "8 : 0.03326427433699425\n",
            "9 : 0.03347775328765462\n",
            "10 : 0.048869900728349215\n",
            "11 : 0.049640394313740004\n",
            "12 : 0.026376387810115587\n",
            "13 : 0.028582940904930184\n",
            "14 : 0.03327506644630807\n",
            "15 : 0.035892901312856156\n",
            "16 : 0.026921034845121414\n",
            "17 : 0.049083773551612274\n",
            "18 : 0.06778602634535066\n",
            "19 : 0.033472317845737426\n",
            "20 : 0.02689519680238466\n",
            "21 : 0.028874564179965118\n",
            "22 : 0.03463243020971353\n",
            "23 : 0.022105863502661794\n",
            "24 : 0.05757109794351237\n",
            "25 : 0.03353927618819548\n",
            "26 : 0.03920403073466693\n",
            "------------------------\n",
            "0 : 0.03236049426285167\n",
            "1 : 0.04399029182808879\n",
            "2 : 0.0323883016686019\n",
            "3 : 0.03598301936435263\n",
            "4 : 0.030821476455083555\n",
            "5 : 0.03196575514043134\n",
            "6 : 0.05843824786560437\n",
            "7 : 0.03400664541855267\n",
            "8 : 0.03867939242787798\n",
            "9 : 0.028983588116390926\n",
            "10 : 0.03441524885658784\n",
            "11 : 0.03593197347504344\n",
            "12 : 0.043793828173864825\n",
            "13 : 0.04628475728782476\n",
            "14 : 0.02865139596327847\n",
            "15 : 0.028340709254273122\n",
            "16 : 0.03195472670755589\n",
            "17 : 0.03775583994908015\n",
            "18 : 0.025146402446421506\n",
            "19 : 0.05164969600912523\n",
            "20 : 0.0654000248927485\n",
            "21 : 0.03521276210252346\n",
            "22 : 0.027721305199275906\n",
            "23 : 0.02624081686026818\n",
            "24 : 0.03267070832473379\n",
            "25 : 0.026607906125979363\n",
            "26 : 0.05460468582357974\n",
            "------------------------\n",
            "0 : 0.031403856485427505\n",
            "1 : 0.03384744211254359\n",
            "2 : 0.03059815068935583\n",
            "3 : 0.037648076404982966\n",
            "4 : 0.02997921928148184\n",
            "5 : 0.049773050606327474\n",
            "6 : 0.04760029178082409\n",
            "7 : 0.02806224132416818\n",
            "8 : 0.02970335091055468\n",
            "9 : 0.03181986472839333\n",
            "10 : 0.03329247561534716\n",
            "11 : 0.023466535795929878\n",
            "12 : 0.05721149225725237\n",
            "13 : 0.06208007272463736\n",
            "14 : 0.03389068932431943\n",
            "15 : 0.024292329094738958\n",
            "16 : 0.03023996294446554\n",
            "17 : 0.035964349802984935\n",
            "18 : 0.027621576656273687\n",
            "19 : 0.05489623032409414\n",
            "20 : 0.03200427588097484\n",
            "21 : 0.04251326956798477\n",
            "22 : 0.02730064925959828\n",
            "23 : 0.03890697201771482\n",
            "24 : 0.028999264245978162\n",
            "25 : 0.03412260151278589\n",
            "26 : 0.0627617086508603\n",
            "------------------------\n",
            "0 : 0.03348413402381827\n",
            "1 : 0.024712906259896045\n",
            "2 : 0.05370878320149104\n",
            "3 : 0.06875542559510212\n",
            "4 : 0.029716269931923063\n",
            "5 : 0.027206671256595392\n",
            "6 : 0.030849441409874858\n",
            "7 : 0.03767454464388402\n",
            "8 : 0.023443927508535217\n",
            "9 : 0.05735234109997589\n",
            "10 : 0.034686784628885345\n",
            "11 : 0.035774818306568375\n",
            "12 : 0.030317083200073102\n",
            "13 : 0.03173250378511571\n",
            "14 : 0.032893640217858816\n",
            "15 : 0.033555267415864884\n",
            "16 : 0.0717813124780416\n",
            "17 : 0.029948418443951144\n",
            "18 : 0.02985152578368832\n",
            "19 : 0.029931639471076354\n",
            "20 : 0.03444321381137913\n",
            "21 : 0.032797062655678146\n",
            "22 : 0.0486135684385157\n",
            "23 : 0.05400395132995023\n",
            "24 : 0.02567655496964818\n",
            "25 : 0.02774328329050625\n",
            "26 : 0.02934492684210278\n",
            "------------------------\n",
            "0 : 0.06275477649305289\n",
            "1 : 0.03204311171960051\n",
            "2 : 0.027282294796312723\n",
            "3 : 0.030293765941993598\n",
            "4 : 0.0393686694825932\n",
            "5 : 0.02211374095471568\n",
            "6 : 0.05733792536271728\n",
            "7 : 0.03262620072062931\n",
            "8 : 0.04176916544697451\n",
            "9 : 0.028956410906805015\n",
            "10 : 0.03422666265441775\n",
            "11 : 0.030936487255070325\n",
            "12 : 0.030229879805836562\n",
            "13 : 0.06682584371450222\n",
            "14 : 0.02771965093434459\n",
            "15 : 0.04089910086762257\n",
            "16 : 0.029722020471922395\n",
            "17 : 0.03558371131974105\n",
            "18 : 0.03295303620634513\n",
            "19 : 0.04575263540158462\n",
            "20 : 0.04476188825676713\n",
            "21 : 0.030346072223631407\n",
            "22 : 0.03011219067215148\n",
            "23 : 0.030976819809586227\n",
            "24 : 0.03806841724657843\n",
            "25 : 0.021332140161928904\n",
            "26 : 0.05500738117257449\n",
            "------------------------\n"
          ]
        }
      ]
    }
  ]
}